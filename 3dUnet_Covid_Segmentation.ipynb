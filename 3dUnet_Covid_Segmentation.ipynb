{
  "nbformat": 4,
  "nbformat_minor": 0,
  "metadata": {
    "accelerator": "GPU",
    "colab": {
      "name": "3dUnet_Covid_Segmentation.ipynb",
      "provenance": [],
      "collapsed_sections": []
    },
    "kernelspec": {
      "display_name": "Python 3",
      "name": "python3"
    },
    "language_info": {
      "name": "python"
    }
  },
  "cells": [
    {
      "cell_type": "code",
      "metadata": {
        "colab": {
          "base_uri": "https://localhost:8080/"
        },
        "id": "pDt8bZyr_jB4",
        "outputId": "8939504b-f2a2-45bd-887e-9ec18be80506"
      },
      "source": [
        "from google.colab import drive\n",
        "drive.mount('/content/gdrive')\n",
        "import os\n",
        "BASE_PATH = '/content/gdrive/My Drive/Learning/lung segmentation/data'\n",
        "os.chdir(BASE_PATH)\n",
        "!ls"
      ],
      "execution_count": null,
      "outputs": [
        {
          "output_type": "stream",
          "text": [
            "Mounted at /content/gdrive\n",
            "batches_predict  data  Infection_model\tInfection_only\tmodel  model_save\n"
          ],
          "name": "stdout"
        }
      ]
    },
    {
      "cell_type": "code",
      "metadata": {
        "colab": {
          "base_uri": "https://localhost:8080/"
        },
        "id": "axc2K6qqc9zm",
        "outputId": "5b2ab1b9-5729-4c17-b042-ce9c842c4d26"
      },
      "source": [
        "gpu_info = !nvidia-smi\n",
        "gpu_info = '\\n'.join(gpu_info)\n",
        "if gpu_info.find('failed') >= 0:\n",
        "  print('Select the Runtime > \"Change runtime type\" menu to enable a GPU accelerator, ')\n",
        "  print('and then re-execute this cell.')\n",
        "else:\n",
        "  print(gpu_info)\n",
        "\n",
        "def mem_report():\n",
        "  print(\"CPU RAM Free: \" + humanize.naturalsize( psutil.virtual_memory().available ))\n",
        "\n",
        "  GPUs = GPUtil.getGPUs()\n",
        "  for i, gpu in enumerate(GPUs):\n",
        "    print('GPU {:d} ... Mem Free: {:.0f}MB / {:.0f}MB | Utilization {:3.0f}%'.format(i, gpu.memoryFree, gpu.memoryTotal, gpu.memoryUtil*100))\n"
      ],
      "execution_count": null,
      "outputs": [
        {
          "output_type": "stream",
          "text": [
            "Sun May 23 02:45:13 2021       \n",
            "+-----------------------------------------------------------------------------+\n",
            "| NVIDIA-SMI 465.19.01    Driver Version: 460.32.03    CUDA Version: 11.2     |\n",
            "|-------------------------------+----------------------+----------------------+\n",
            "| GPU  Name        Persistence-M| Bus-Id        Disp.A | Volatile Uncorr. ECC |\n",
            "| Fan  Temp  Perf  Pwr:Usage/Cap|         Memory-Usage | GPU-Util  Compute M. |\n",
            "|                               |                      |               MIG M. |\n",
            "|===============================+======================+======================|\n",
            "|   0  Tesla V100-SXM2...  Off  | 00000000:00:04.0 Off |                    0 |\n",
            "| N/A   35C    P0    25W / 300W |      0MiB / 16160MiB |      0%      Default |\n",
            "|                               |                      |                  N/A |\n",
            "+-------------------------------+----------------------+----------------------+\n",
            "                                                                               \n",
            "+-----------------------------------------------------------------------------+\n",
            "| Processes:                                                                  |\n",
            "|  GPU   GI   CI        PID   Type   Process name                  GPU Memory |\n",
            "|        ID   ID                                                   Usage      |\n",
            "|=============================================================================|\n",
            "|  No running processes found                                                 |\n",
            "+-----------------------------------------------------------------------------+\n"
          ],
          "name": "stdout"
        }
      ]
    },
    {
      "cell_type": "code",
      "metadata": {
        "id": "2qqEFD0jCGuy"
      },
      "source": [
        "import keras\n",
        "import glob\n",
        "import pandas as pd\n",
        "import numpy as np\n",
        "from sklearn.model_selection import train_test_split\n",
        "from sklearn.utils import shuffle\n",
        "import pickle\n",
        "import cv2\n",
        "import matplotlib.pyplot as plt\n",
        "import math\n",
        "import tensorflow as tf\n",
        "import cv2\n",
        "from keras.models import Model\n",
        "from keras.preprocessing.image import ImageDataGenerator\n",
        "from tensorflow.keras.callbacks import ReduceLROnPlateau, LearningRateScheduler,CSVLogger\n",
        "from keras.models import load_model"
      ],
      "execution_count": null,
      "outputs": []
    },
    {
      "cell_type": "code",
      "metadata": {
        "id": "ZXSzjqXLHsy3"
      },
      "source": [
        "\n",
        "datapath_ct = os.path.join(BASE_PATH, '/COVID-19-CT-Seg_20cases')\n",
        "# datapath_pkl = os.path.join(BASE_PATH, 'data/patches')\n",
        "datapath_batch = os.path.join(BASE_PATH, 'data/batches32/')\n",
        "model_saves = os.path.join(BASE_PATH, 'model_save/')"
      ],
      "execution_count": null,
      "outputs": []
    },
    {
      "cell_type": "markdown",
      "metadata": {
        "id": "N5eTRhx_JciG"
      },
      "source": [
        "## Load all images and seg into dataframe"
      ]
    },
    {
      "cell_type": "code",
      "metadata": {
        "colab": {
          "base_uri": "https://localhost:8080/"
        },
        "id": "rJHV0KqVJg_a",
        "outputId": "2b707a83-365d-4d9d-b0df-83b377d0a1ea"
      },
      "source": [
        "all_images = glob.glob(\"{0}/*/batch_img_*.npz\".format(datapath_batch))\n",
        "all_masks = glob.glob(\"{0}/*/batch_seg_*.npz\".format(datapath_batch))\n",
        "print(all_images[0])"
      ],
      "execution_count": null,
      "outputs": [
        {
          "output_type": "stream",
          "text": [
            "/content/gdrive/My Drive/Learning/lung segmentation/data/data/batches32/1/batch_img_1.npz\n"
          ],
          "name": "stdout"
        }
      ]
    },
    {
      "cell_type": "code",
      "metadata": {
        "colab": {
          "base_uri": "https://localhost:8080/",
          "height": 195
        },
        "id": "5ZeZjl1RJbfR",
        "outputId": "5e5baa80-a79b-40dd-9978-d0b13f64c2fc"
      },
      "source": [
        "df_all = pd.DataFrame.from_dict({ 'image': all_images, 'mask': all_masks })\n",
        "df_all.head()"
      ],
      "execution_count": null,
      "outputs": [
        {
          "output_type": "execute_result",
          "data": {
            "text/html": [
              "<div>\n",
              "<style scoped>\n",
              "    .dataframe tbody tr th:only-of-type {\n",
              "        vertical-align: middle;\n",
              "    }\n",
              "\n",
              "    .dataframe tbody tr th {\n",
              "        vertical-align: top;\n",
              "    }\n",
              "\n",
              "    .dataframe thead th {\n",
              "        text-align: right;\n",
              "    }\n",
              "</style>\n",
              "<table border=\"1\" class=\"dataframe\">\n",
              "  <thead>\n",
              "    <tr style=\"text-align: right;\">\n",
              "      <th></th>\n",
              "      <th>image</th>\n",
              "      <th>mask</th>\n",
              "    </tr>\n",
              "  </thead>\n",
              "  <tbody>\n",
              "    <tr>\n",
              "      <th>0</th>\n",
              "      <td>/content/gdrive/My Drive/Learning/lung segment...</td>\n",
              "      <td>/content/gdrive/My Drive/Learning/lung segment...</td>\n",
              "    </tr>\n",
              "    <tr>\n",
              "      <th>1</th>\n",
              "      <td>/content/gdrive/My Drive/Learning/lung segment...</td>\n",
              "      <td>/content/gdrive/My Drive/Learning/lung segment...</td>\n",
              "    </tr>\n",
              "    <tr>\n",
              "      <th>2</th>\n",
              "      <td>/content/gdrive/My Drive/Learning/lung segment...</td>\n",
              "      <td>/content/gdrive/My Drive/Learning/lung segment...</td>\n",
              "    </tr>\n",
              "    <tr>\n",
              "      <th>3</th>\n",
              "      <td>/content/gdrive/My Drive/Learning/lung segment...</td>\n",
              "      <td>/content/gdrive/My Drive/Learning/lung segment...</td>\n",
              "    </tr>\n",
              "    <tr>\n",
              "      <th>4</th>\n",
              "      <td>/content/gdrive/My Drive/Learning/lung segment...</td>\n",
              "      <td>/content/gdrive/My Drive/Learning/lung segment...</td>\n",
              "    </tr>\n",
              "  </tbody>\n",
              "</table>\n",
              "</div>"
            ],
            "text/plain": [
              "                                               image                                               mask\n",
              "0  /content/gdrive/My Drive/Learning/lung segment...  /content/gdrive/My Drive/Learning/lung segment...\n",
              "1  /content/gdrive/My Drive/Learning/lung segment...  /content/gdrive/My Drive/Learning/lung segment...\n",
              "2  /content/gdrive/My Drive/Learning/lung segment...  /content/gdrive/My Drive/Learning/lung segment...\n",
              "3  /content/gdrive/My Drive/Learning/lung segment...  /content/gdrive/My Drive/Learning/lung segment...\n",
              "4  /content/gdrive/My Drive/Learning/lung segment...  /content/gdrive/My Drive/Learning/lung segment..."
            ]
          },
          "metadata": {
            "tags": []
          },
          "execution_count": 9
        }
      ]
    },
    {
      "cell_type": "code",
      "metadata": {
        "colab": {
          "base_uri": "https://localhost:8080/"
        },
        "id": "wLeJdRDQMgJl",
        "outputId": "51d53d73-9907-4ed4-f3d1-6446ecd960c5"
      },
      "source": [
        "df_all.shape"
      ],
      "execution_count": null,
      "outputs": [
        {
          "output_type": "execute_result",
          "data": {
            "text/plain": [
              "(568, 2)"
            ]
          },
          "metadata": {
            "tags": []
          },
          "execution_count": 10
        }
      ]
    },
    {
      "cell_type": "markdown",
      "metadata": {
        "id": "sNYRcHQMQpZi"
      },
      "source": [
        "## Create Data Generator for K folds"
      ]
    },
    {
      "cell_type": "code",
      "metadata": {
        "id": "hHKb7GNMBrZR"
      },
      "source": [
        "class DataGeneratorKFold(keras.utils.Sequence):\n",
        "  def __init__(self, image_paths, mask_paths, batch_size=None):\n",
        "    self.image_paths = image_paths\n",
        "    self.mask_paths = mask_paths\n",
        "    self.batch_size = batch_size\n",
        "    self.indices = np.arange(len(self.image_paths))\n",
        "    np.random.shuffle(self.indices)\n",
        "\n",
        "  def __getitem__(self, idx):\n",
        "    real_index = self.indices[idx]\n",
        "    # CLASS_A_CHANNEL = 0\n",
        "    # CLASS_B_CHANNEL = 1\n",
        "    # CLASS_C_CHANNEL = 2\n",
        "    # CLASS_D_CHANNEL = 3\n",
        "    # CLASS_A_WEIGHT = 1\n",
        "    # CLASS_B_WEIGHT = 1\n",
        "    # CLASS_C_WEIGHT = 1\n",
        "    # CLASS_D_WEIGHT = 2\n",
        "    # print(\"Loading item at index: {0}....\".format(real_index))\n",
        "    image_data = np.load(self.image_paths[real_index])[\"data\"]\n",
        "    mask_data = np.load(self.mask_paths[real_index])[\"data\"]\n",
        "    # for label in mask_data:     \n",
        "    #   label[ label[:,:,:,CLASS_A_CHANNEL] == 1 ] *= CLASS_A_WEIGHT\n",
        "    #   label[ label[:,:,:,CLASS_B_CHANNEL] == 1 ] *= CLASS_B_WEIGHT\n",
        "    #   label[ label[:,:,:,CLASS_C_CHANNEL] == 1 ] *= CLASS_C_WEIGHT\n",
        "    #   label[ label[:,:,:,CLASS_D_CHANNEL] == 1 ] *= CLASS_D_WEIGHT\n",
        "    # augmented = MySequence(self.image_paths,self.mask_paths, real_index)\n",
        "    return (image_data,mask_data)\n",
        "\n",
        " \n",
        "  def __len__(self):\n",
        "    return int(np.floor(len(self.image_paths) / self.batch_size))\n",
        "\n",
        "  def on_epoch_end(self):\n",
        "    np.random.shuffle(self.indices)\n",
        "    return\n",
        "\n"
      ],
      "execution_count": null,
      "outputs": []
    },
    {
      "cell_type": "code",
      "metadata": {
        "id": "tuiX6UiOB7TK"
      },
      "source": [
        "def getDataGeneratorsForFolds (dataframe, image_column, mask_column, num_folds, batch_size=4):\n",
        "  result = []\n",
        "  val_size = int(np.round(dataframe.shape[0] / num_folds))\n",
        "  for k in range(num_folds):\n",
        "    val_start = k * val_size\n",
        "    val_end = val_start + val_size\n",
        "    df_val = dataframe.iloc[val_start:val_end]\n",
        "    val_images = df_val[image_column].tolist()\n",
        "    val_masks = df_val[mask_column].tolist()\n",
        "    generator_val = DataGeneratorKFold(val_images, val_masks, batch_size=4)\n",
        "\n",
        "    df_train_head = dataframe.iloc[0:val_start]\n",
        "    df_train_tail = dataframe.iloc[val_end:]\n",
        "    train_images = df_train_head[image_column].tolist() + df_train_tail[image_column].tolist()\n",
        "    train_masks = df_train_head[mask_column].tolist() + df_train_tail[mask_column].tolist()\n",
        "    generator_train = DataGeneratorKFold(train_images, train_masks, batch_size=4)\n",
        "\n",
        "    result.append((generator_train, generator_train))\n",
        "  return result\n",
        "\n",
        "\n",
        "\n",
        "df_all_shuffled = shuffle(df_all, random_state=42)\n",
        "df_all_shuffled.reset_index(inplace=True, drop=True)\n",
        "if 'shuffled_data.csv' in os.listdir(model_saves):\n",
        "  data_generators_each_fold = getDataGeneratorsForFolds(pd.read_csv(model_saves+'shuffled_data.csv'), image_column='image', mask_column='mask', num_folds=5)\n",
        "else:\n",
        "  df_all_shuffled.to_csv(model_saves+'/shuffled_data.csv')\n",
        "  data_generators_each_fold = getDataGeneratorsForFolds(df_all_shuffled, image_column='image', mask_column='mask', num_folds=5)"
      ],
      "execution_count": null,
      "outputs": []
    },
    {
      "cell_type": "code",
      "metadata": {
        "id": "FJRhWcpgBUxn"
      },
      "source": [
        "\n",
        "from keras.layers import Input, concatenate, Conv3D, MaxPooling3D, Conv3DTranspose, AveragePooling3D, ZeroPadding3D, BatchNormalization\n",
        "from keras.optimizers import RMSprop, Adam, SGD, Adagrad, Adadelta\n",
        "from keras.callbacks import ModelCheckpoint, CSVLogger\n",
        "from keras import backend as K\n",
        "from keras.utils import plot_model\n",
        "\n",
        "\n",
        "K.set_image_data_format('channels_last')\n",
        "\n",
        "project_name = '3D-Unet'\n",
        "img_rows = 128\n",
        "img_cols = 128\n",
        "img_depth = 32\n",
        "\n",
        "\n",
        "\n",
        "def get_unet():\n",
        "    inputs = Input((img_rows, img_cols, img_depth, 1))\n",
        "    conv11 = Conv3D(32, (3, 3, 3), activation='elu',kernel_initializer='he_normal', padding='same')(inputs)\n",
        "    conv12 = Conv3D(32, (3, 3, 3), activation='elu',kernel_initializer='he_normal', padding='same')(conv11)\n",
        "    pool1 = MaxPooling3D(pool_size=(2, 2, 2))(conv12)\n",
        "\n",
        "    conv21 = Conv3D(64, (3, 3, 3), activation='elu',kernel_initializer='he_normal', padding='same')(pool1)\n",
        "    conv22 = Conv3D(64, (3, 3, 3), activation='elu',kernel_initializer='he_normal', padding='same')(conv21)\n",
        "    pool2 = MaxPooling3D(pool_size=(2, 2, 2))(conv22)\n",
        "\n",
        "    conv31 = Conv3D(128, (3, 3, 3), activation='elu',kernel_initializer='he_normal', padding='same')(pool2)\n",
        "    conv32 = Conv3D(128, (3, 3, 3), activation='elu',kernel_initializer='he_normal', padding='same')(conv31)\n",
        "    pool3 = MaxPooling3D(pool_size=(2, 2, 2))(conv32)\n",
        "\n",
        "    conv41 = Conv3D(256, (3, 3, 3), activation='elu',kernel_initializer='he_normal', padding='same')(pool3)\n",
        "    conv42 = Conv3D(256, (3, 3, 3), activation='elu',kernel_initializer='he_normal', padding='same')(conv41)\n",
        "    pool4 = MaxPooling3D(pool_size=(2, 2, 2))(conv42)\n",
        "\n",
        "    conv51 = Conv3D(512, (3, 3, 3), activation='elu',kernel_initializer='he_normal', padding='same')(pool4)\n",
        "    conv52 = Conv3D(512, (3, 3, 3), activation='elu',kernel_initializer='he_normal', padding='same')(conv51)\n",
        "\n",
        "    up6 = concatenate([Conv3DTranspose(256, (2, 2, 2), strides=(2, 2, 2), padding='same')(conv52), conv42], axis=4)\n",
        "    conv61 = Conv3D(256, (3, 3, 3), activation='elu',kernel_initializer='he_normal', padding='same')(up6)\n",
        "    conv62 = Conv3D(256, (3, 3, 3), activation='elu',kernel_initializer='he_normal', padding='same')(conv61)\n",
        "\n",
        "\n",
        "    up7 = concatenate([Conv3DTranspose(128, (2, 2, 2), strides=(2, 2, 2), padding='same')(conv62), conv32], axis=4)\n",
        "    conv71 = Conv3D(128, (3, 3, 3), activation='elu',kernel_initializer='he_normal', padding='same')(up7)\n",
        "    conv72 = Conv3D(128, (3, 3, 3), activation='elu',kernel_initializer='he_normal', padding='same')(conv71)\n",
        "\n",
        "    up8 = concatenate([Conv3DTranspose(64, (2, 2, 2), strides=(2, 2, 2), padding='same')(conv72), conv22], axis=4)\n",
        "    conv81 = Conv3D(64, (3, 3, 3), activation='elu',kernel_initializer='he_normal', padding='same')(up8)\n",
        "    conv82 = Conv3D(64, (3, 3, 3), activation='elu',kernel_initializer='he_normal', padding='same')(conv81)\n",
        "\n",
        "\n",
        "    up9 = concatenate([Conv3DTranspose(32, (2, 2, 2), strides=(2, 2, 2), padding='same')(conv82), conv12], axis=4)\n",
        "    conv91 = Conv3D(32, (3, 3, 3), activation='elu',kernel_initializer='he_normal', padding='same')(up9)\n",
        "    conv92 = Conv3D(32, (3, 3, 3), activation='elu',kernel_initializer='he_normal', padding='same')(conv91)\n",
        "\n",
        "    conv10 = Conv3D(4, (1, 1, 1), activation= 'softmax')(conv92)\n",
        "\n",
        "    model = Model(inputs=[inputs], outputs=[conv10])\n",
        "    #plot_model(model, to_file='model.png')\n",
        "\n",
        "   \n",
        "    return model\n"
      ],
      "execution_count": null,
      "outputs": []
    },
    {
      "cell_type": "code",
      "metadata": {
        "colab": {
          "base_uri": "https://localhost:8080/"
        },
        "id": "KKIa8_U5CPCr",
        "outputId": "684658bd-51fb-4df2-aab5-24b6ea75cf3f"
      },
      "source": [
        " \n",
        "model = get_unet()\n",
        "model.summary()"
      ],
      "execution_count": null,
      "outputs": [
        {
          "output_type": "stream",
          "text": [
            "Model: \"model\"\n",
            "__________________________________________________________________________________________________\n",
            "Layer (type)                    Output Shape         Param #     Connected to                     \n",
            "==================================================================================================\n",
            "input_1 (InputLayer)            [(None, 128, 128, 32 0                                            \n",
            "__________________________________________________________________________________________________\n",
            "conv3d (Conv3D)                 (None, 128, 128, 32, 896         input_1[0][0]                    \n",
            "__________________________________________________________________________________________________\n",
            "conv3d_1 (Conv3D)               (None, 128, 128, 32, 27680       conv3d[0][0]                     \n",
            "__________________________________________________________________________________________________\n",
            "max_pooling3d (MaxPooling3D)    (None, 64, 64, 16, 3 0           conv3d_1[0][0]                   \n",
            "__________________________________________________________________________________________________\n",
            "conv3d_2 (Conv3D)               (None, 64, 64, 16, 6 55360       max_pooling3d[0][0]              \n",
            "__________________________________________________________________________________________________\n",
            "conv3d_3 (Conv3D)               (None, 64, 64, 16, 6 110656      conv3d_2[0][0]                   \n",
            "__________________________________________________________________________________________________\n",
            "max_pooling3d_1 (MaxPooling3D)  (None, 32, 32, 8, 64 0           conv3d_3[0][0]                   \n",
            "__________________________________________________________________________________________________\n",
            "conv3d_4 (Conv3D)               (None, 32, 32, 8, 12 221312      max_pooling3d_1[0][0]            \n",
            "__________________________________________________________________________________________________\n",
            "conv3d_5 (Conv3D)               (None, 32, 32, 8, 12 442496      conv3d_4[0][0]                   \n",
            "__________________________________________________________________________________________________\n",
            "max_pooling3d_2 (MaxPooling3D)  (None, 16, 16, 4, 12 0           conv3d_5[0][0]                   \n",
            "__________________________________________________________________________________________________\n",
            "conv3d_6 (Conv3D)               (None, 16, 16, 4, 25 884992      max_pooling3d_2[0][0]            \n",
            "__________________________________________________________________________________________________\n",
            "conv3d_7 (Conv3D)               (None, 16, 16, 4, 25 1769728     conv3d_6[0][0]                   \n",
            "__________________________________________________________________________________________________\n",
            "max_pooling3d_3 (MaxPooling3D)  (None, 8, 8, 2, 256) 0           conv3d_7[0][0]                   \n",
            "__________________________________________________________________________________________________\n",
            "conv3d_8 (Conv3D)               (None, 8, 8, 2, 512) 3539456     max_pooling3d_3[0][0]            \n",
            "__________________________________________________________________________________________________\n",
            "conv3d_9 (Conv3D)               (None, 8, 8, 2, 512) 7078400     conv3d_8[0][0]                   \n",
            "__________________________________________________________________________________________________\n",
            "conv3d_transpose (Conv3DTranspo (None, 16, 16, 4, 25 1048832     conv3d_9[0][0]                   \n",
            "__________________________________________________________________________________________________\n",
            "concatenate (Concatenate)       (None, 16, 16, 4, 51 0           conv3d_transpose[0][0]           \n",
            "                                                                 conv3d_7[0][0]                   \n",
            "__________________________________________________________________________________________________\n",
            "conv3d_10 (Conv3D)              (None, 16, 16, 4, 25 3539200     concatenate[0][0]                \n",
            "__________________________________________________________________________________________________\n",
            "conv3d_11 (Conv3D)              (None, 16, 16, 4, 25 1769728     conv3d_10[0][0]                  \n",
            "__________________________________________________________________________________________________\n",
            "conv3d_transpose_1 (Conv3DTrans (None, 32, 32, 8, 12 262272      conv3d_11[0][0]                  \n",
            "__________________________________________________________________________________________________\n",
            "concatenate_1 (Concatenate)     (None, 32, 32, 8, 25 0           conv3d_transpose_1[0][0]         \n",
            "                                                                 conv3d_5[0][0]                   \n",
            "__________________________________________________________________________________________________\n",
            "conv3d_12 (Conv3D)              (None, 32, 32, 8, 12 884864      concatenate_1[0][0]              \n",
            "__________________________________________________________________________________________________\n",
            "conv3d_13 (Conv3D)              (None, 32, 32, 8, 12 442496      conv3d_12[0][0]                  \n",
            "__________________________________________________________________________________________________\n",
            "conv3d_transpose_2 (Conv3DTrans (None, 64, 64, 16, 6 65600       conv3d_13[0][0]                  \n",
            "__________________________________________________________________________________________________\n",
            "concatenate_2 (Concatenate)     (None, 64, 64, 16, 1 0           conv3d_transpose_2[0][0]         \n",
            "                                                                 conv3d_3[0][0]                   \n",
            "__________________________________________________________________________________________________\n",
            "conv3d_14 (Conv3D)              (None, 64, 64, 16, 6 221248      concatenate_2[0][0]              \n",
            "__________________________________________________________________________________________________\n",
            "conv3d_15 (Conv3D)              (None, 64, 64, 16, 6 110656      conv3d_14[0][0]                  \n",
            "__________________________________________________________________________________________________\n",
            "conv3d_transpose_3 (Conv3DTrans (None, 128, 128, 32, 16416       conv3d_15[0][0]                  \n",
            "__________________________________________________________________________________________________\n",
            "concatenate_3 (Concatenate)     (None, 128, 128, 32, 0           conv3d_transpose_3[0][0]         \n",
            "                                                                 conv3d_1[0][0]                   \n",
            "__________________________________________________________________________________________________\n",
            "conv3d_16 (Conv3D)              (None, 128, 128, 32, 55328       concatenate_3[0][0]              \n",
            "__________________________________________________________________________________________________\n",
            "conv3d_17 (Conv3D)              (None, 128, 128, 32, 27680       conv3d_16[0][0]                  \n",
            "__________________________________________________________________________________________________\n",
            "conv3d_18 (Conv3D)              (None, 128, 128, 32, 132         conv3d_17[0][0]                  \n",
            "==================================================================================================\n",
            "Total params: 22,575,428\n",
            "Trainable params: 22,575,428\n",
            "Non-trainable params: 0\n",
            "__________________________________________________________________________________________________\n"
          ],
          "name": "stdout"
        }
      ]
    },
    {
      "cell_type": "markdown",
      "metadata": {
        "id": "Z-dkFg-HQwQp"
      },
      "source": [
        "## Define model"
      ]
    },
    {
      "cell_type": "code",
      "metadata": {
        "id": "j-YXdMUPEqK5"
      },
      "source": [
        "\n",
        "from tensorflow.keras import backend as K\n",
        "from keras.optimizers import Adam\n",
        "\n",
        "def identify_axis(shape):\n",
        "    # Three dimensional\n",
        "    if len(shape) == 5 : return [1,2,3]\n",
        "    # Two dimensional\n",
        "    elif len(shape) == 4 : return [1,2]\n",
        "    # Exception - Unknown\n",
        "    else : raise ValueError('Metric: Shape of tensor is neither 2D or 3D.')\n",
        "\n",
        "def dsc(y_true, y_pred, smooth=0.00001):\n",
        "    y_true_f = K.flatten(y_true)\n",
        "    y_pred_f = K.flatten(y_pred)\n",
        "    intersection = K.sum(y_true_f * y_pred_f)\n",
        "    return (2. * intersection + smooth) / \\\n",
        "           (K.sum(y_true_f) + K.sum(y_pred_f) + smooth)\n",
        "\n",
        "def dice_coefficient(y_true, y_pred, numlabels=4):\n",
        "    dice=0\n",
        "    for index in range(4):\n",
        "        dice += dsc(y_true[:,:,:,index], y_pred[:,:,:,index])\n",
        "    return dice/4 \n",
        "\n",
        "\n",
        "def tversky(y_true, y_pred, smooth=0.000001):\n",
        "    # Define alpha and beta\n",
        "    alpha = 0.3\n",
        "    beta  = 0.7\n",
        "    # Calculate Tversky for each class\n",
        "    axis = identify_axis(y_true.get_shape())\n",
        "    tp = K.sum(y_true * y_pred, axis=axis)\n",
        "    fn = K.sum(y_true * (1-y_pred), axis=axis)\n",
        "    fp = K.sum((1-y_true) * y_pred, axis=axis)\n",
        "    tversky_class = (tp + smooth)/(tp + alpha*fn + beta*fp + smooth)\n",
        "    return tversky_class\n",
        "\n",
        "def tversky_loss(y_true, y_pred):\n",
        "    n = K.cast(K.shape(y_true)[-1], 'float32')\n",
        "    tver = K.sum(tversky(y_true, y_pred, smooth =0.000001), axis=[-1])\n",
        "    return n - tver\n",
        "\n",
        "def focal_tversky(y_true,y_pred):\n",
        "    pt_1 = tversky(y_true, y_pred)\n",
        "    gamma = 1.333\n",
        "    return K.pow((1-pt_1), gamma)\n",
        "def tversky_crossentropy(y_truth, y_pred):\n",
        "    # Obtain Tversky Loss\n",
        "    tver = tversky_loss(y_truth, y_pred)\n",
        "    # Obtain Crossentropy\n",
        "    crossentropy = K.categorical_crossentropy(y_truth, y_pred)\n",
        "    crossentropy = K.mean(crossentropy)\n",
        "    # Return sum(tver,crossentropy)\n",
        "    return tver+crossentropy\n",
        "def iou_coef(y_true, y_pred, smooth=1):\n",
        "  intersection = K.sum(K.abs(y_true * y_pred), axis=[1,2,3])\n",
        "  union = K.sum(y_true,[1,2,3])+K.sum(y_pred,[1,2,3])-intersection\n",
        "  iou = K.mean((intersection + smooth) / (union + smooth), axis=0)\n",
        "  return iou     \n",
        "\n",
        "\n",
        "def bce_dice_loss(y_true, y_pred):\n",
        "    return 0.5 * binary_crossentropy(y_true, y_pred) - dce(y_true, y_pred)\n",
        "\n"
      ],
      "execution_count": null,
      "outputs": []
    },
    {
      "cell_type": "code",
      "metadata": {
        "id": "D8jtqQEbEZwW"
      },
      "source": [
        "\n",
        "from functools import partial\n",
        "\n",
        "def step_decay(epoch, initial_lrate,drop, epochs_drop):\n",
        "    return initial_lrate * math.pow(drop, math.floor((1+epoch)/float(epochs_drop)))\n",
        "rop = ReduceLROnPlateau(monitor='val_loss', factor=0.5, patience=4,\n",
        "                          verbose=1, mode='min', cooldown=1,\n",
        "                          min_lr=.00000001)\n",
        "# lr = LearningRateScheduler(partial(step_decay, initial_lrate=initial_learning_rate, drop=0.5, epochs_drop=25.0))\n",
        "\n",
        "\n",
        "for k in range(1,2):\n",
        "  # ,len(data_generators_each_fold)\n",
        "# #checking for old model weights  \n",
        "  checkpoint_filepath = os.path.join(BASE_PATH, 'data/K_fold/fold'+str(k+1)+'/')\n",
        "  csvlogger = CSVLogger(checkpoint_filepath+'model_history_log.csv', append=True)\n",
        "\n",
        "  my_callbacks = [\n",
        "  tf.keras.callbacks.EarlyStopping(patience=10),\n",
        "  rop, csvlogger,\n",
        "  tf.keras.callbacks.ModelCheckpoint(\n",
        "                                    filepath=checkpoint_filepath,\n",
        "                                    save_weights_only=False,\n",
        "                                    monitor='val_loss',\n",
        "                                    mode='min',\n",
        "                                    save_best_only=True)]\n",
        "  if not os.path.exists(checkpoint_filepath):\n",
        "    os.makedirs(checkpoint_filepath)\n",
        "  old_model = os.listdir(checkpoint_filepath)\n",
        "  print(old_model)\n",
        "                                     \n",
        "  model = get_unet()\n",
        "  # if 'saved_model.pb' in old_model: \n",
        "  #   print('loading saved model...')\n",
        "  model_file = os.path.join(checkpoint_filepath+'3dUnet.h5')\n",
        "  model = load_model(model_file,custom_objects={'tversky_crossentropy':tversky_crossentropy, 'dice_coefficient' : dice_coefficient, 'focal_tversky':focal_tversky}) \n",
        "  # for layer in model.layers:\n",
        "  #   layer.trainable = False\n",
        "  # for layer in model.layers[:-9]:\n",
        "  #   layer.trainable = True      \n",
        "  model.compile(optimizer=Adam(lr=0.000005),loss=tversky_crossentropy, metrics=[dice_coefficient])\n",
        "  print(\"Running Model \"+str(k+1))\n",
        "  (datagen_train, datagen_val) = data_generators_each_fold[k]\n",
        "  history = model.fit(datagen_train, epochs=50,validation_data=datagen_val, batch_size=4, callbacks=my_callbacks)\n",
        "  print(history.history.keys())\n",
        "  with open('/trainHistoryDict', 'wb') as file_pi:\n",
        "        pickle.dump(history.history, file_pi)\n",
        "  model_name = 'Fold_'+str(k+1)+'.h5'\n",
        "  model.save(checkpoint_filepath+'/'+model_name)      \n",
        "  #Dice plotting\n",
        "  plt.plot(history.history['dice_coefficient'])\n",
        "  plt.plot(history.history['val_dice_coefficient'])\n",
        "  plt.title('DSC')\n",
        "  plt.ylabel('dice scores')\n",
        "  plt.xlabel('epoch')\n",
        "  plt.legend(['train', 'test'], loc='upper left')\n",
        "  fig1 = plt.gcf()\n",
        "  plt.show()\n",
        "  fig1.savefig(model_saves+'/fold'+str(k+1)+'dsc.png')\n",
        "  # Dice Loss\n",
        "  plt.plot(history.history['loss'])\n",
        "  plt.plot(history.history['val_loss'])\n",
        "  plt.title('model loss')\n",
        "  plt.ylabel('loss')\n",
        "  plt.xlabel('epoch')\n",
        "  plt.legend(['train', 'test'], loc='upper left')\n",
        "  fig2 = plt.gcf()\n",
        "  plt.show()\n",
        "  fig2.savefig(model_saves+'/fold'+str(k+1)+'loss.png')"
      ],
      "execution_count": null,
      "outputs": []
    },
    {
      "cell_type": "code",
      "metadata": {
        "id": "41GXuBzsqY-O"
      },
      "source": [
        "model_name = 'Fold_'+str(k+1)+'.h5'\n",
        "model.save(checkpoint_filepath+'/'+model_name)   "
      ],
      "execution_count": null,
      "outputs": []
    },
    {
      "cell_type": "code",
      "metadata": {
        "id": "Y6F-PdkmJtOE",
        "colab": {
          "base_uri": "https://localhost:8080/"
        },
        "outputId": "6782aadb-1e57-4d31-cb53-d5f24860cd45"
      },
      "source": [
        "file = pd.read_csv(checkpoint_filepath+'/model_history_log.csv')\n",
        "plt.plot(file['dice_coefficient'])\n",
        "plt.plot(file['val_dice_coefficient'])\n",
        "plt.title('DSC')\n",
        "plt.ylabel('dice_coefficient')\n",
        "plt.xlabel('epoch')\n",
        "plt.legend(['train', 'test'], loc='upper left')\n",
        "fig1 = plt.gcf()\n",
        "plt.show()\n",
        "fig1.savefig(model_saves+'/fold'+str(k+1)+'dsc.png')\n",
        "# Dice Loss\n",
        "# plt.plot(history.history['loss'])\n",
        "# plt.plot(history.history['val_loss'])\n",
        "# plt.title('model loss')\n",
        "# plt.ylabel('loss')\n",
        "# plt.xlabel('epoch')\n",
        "# plt.legend(['train', 'test'], loc='upper left')\n",
        "# fig2 = plt.gcf()\n",
        "# plt.show()\n",
        "# fig2.savefig(model_saves+'/fold'+str(k+1)+'loss.png')"
      ],
      "execution_count": null,
      "outputs": [
        {
          "output_type": "display_data",
          "data": {
            "image/png": "[encoded data removed]",
            "text/plain": [
              "<Figure size 432x288 with 1 Axes>"
            ]
          },
          "metadata": {
            "tags": [],
            "needs_background": "light"
          }
        }
      ]
    },
    {
      "cell_type": "code",
      "metadata": {
        "id": "gFSSQ4qoRQq5",
        "colab": {
          "base_uri": "https://localhost:8080/"
        },
        "outputId": "d24720a8-b8c0-4c51-dc36-0829237bb98d"
      },
      "source": [
        "print(history.history['lr'])"
      ],
      "execution_count": null,
      "outputs": [
        {
          "output_type": "stream",
          "text": [
            "[5e-06, 5e-06, 5e-06, 5e-06, 5e-06, 5e-06, 5e-06, 5e-06, 5e-06, 5e-06, 2.5e-06, 2.5e-06, 2.5e-06, 2.5e-06, 1.25e-06, 1.25e-06]\n"
          ],
          "name": "stdout"
        }
      ]
    }
  ]
}